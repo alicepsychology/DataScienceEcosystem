{
 "cells": [
  {
   "cell_type": "markdown",
   "id": "e926c5a3-14c4-46b2-a59a-707eab595ff4",
   "metadata": {},
   "source": [
    "Data Science Tools and Ecosystem"
   ]
  },
  {
   "cell_type": "markdown",
   "id": "6c176177-76b2-4bcd-9a30-ffbe2f31a314",
   "metadata": {},
   "source": [
    "In this notebook, Data Science Tools and Ecosystem are summarized."
   ]
  },
  {
   "cell_type": "markdown",
   "id": "f70b6e19-9d4a-4f44-8089-703dfc73b278",
   "metadata": {},
   "source": [
    "## Objectives: ##\n",
    "- language\n",
    "- lib\n",
    "- pack"
   ]
  },
  {
   "cell_type": "markdown",
   "id": "7c7bd6ba-9e7a-4f2e-bf0e-d3f9c909b311",
   "metadata": {},
   "source": [
    "Some of the popular languages that Data Scientists use are:\n",
    "1. python\n",
    "2. r\n",
    "3. sql"
   ]
  },
  {
   "cell_type": "markdown",
   "id": "e50fd2bd-ce7a-4a1e-a3a9-49c35bff9aff",
   "metadata": {},
   "source": [
    "Some of the commonly used libraries used by Data Scientists include:\n",
    "1. ggplot\n",
    "2. gploy\n",
    "3. package"
   ]
  },
  {
   "cell_type": "markdown",
   "id": "966c9065-2d87-4604-a519-da91f0094fa1",
   "metadata": {},
   "source": [
    "# Data Science Tools\n",
    "|order|name|function|\n",
    "|---|---|---|\n",
    "|1|R|a|\n",
    "|2|b|Python|\n",
    "|3|SQL|c|"
   ]
  },
  {
   "cell_type": "markdown",
   "id": "9de8ac20-3a84-44fa-a32a-027fc531b632",
   "metadata": {},
   "source": [
    "### Below are a few examples of evaluating arithmetic expressions in Python"
   ]
  },
  {
   "cell_type": "code",
   "execution_count": null,
   "id": "f747e8c9-ae5a-4d96-a9b8-6601c63190d2",
   "metadata": {},
   "outputs": [],
   "source": [
    "# This a simple arithmetic expression to mutiply then add integers"
   ]
  },
  {
   "cell_type": "code",
   "execution_count": 7,
   "id": "99b7b774-2b75-4e7c-82d3-8f5c0ebc8009",
   "metadata": {},
   "outputs": [
    {
     "data": {
      "text/plain": [
       "17"
      ]
     },
     "execution_count": 7,
     "metadata": {},
     "output_type": "execute_result"
    }
   ],
   "source": [
    "(3*4)+5"
   ]
  },
  {
   "cell_type": "code",
   "execution_count": null,
   "id": "8ef5e8e4-96d5-474a-84fb-2b6efef9060f",
   "metadata": {},
   "outputs": [],
   "source": [
    " # This will convert 200 minutes to hours by diving by 60"
   ]
  },
  {
   "cell_type": "code",
   "execution_count": 14,
   "id": "380f6b60-f14f-4a94-a421-29243fe8348e",
   "metadata": {},
   "outputs": [],
   "source": [
    "def minutes_to_hours(minutes: int) -> float:\n",
    "    \"\"\"\n",
    "    Convert minutes to hours.\n",
    "    \n",
    "    Args:\n",
    "        minutes: Number of minutes to convert\n",
    "        \n",
    "    Returns:\n",
    "        Equivalent time in hours\n",
    "    \"\"\"\n",
    "    return minutes / 60"
   ]
  },
  {
   "cell_type": "markdown",
   "id": "a291617b-e6e8-4adb-b673-0ca71449bbe2",
   "metadata": {},
   "source": [
    "## Author \n",
    "Qianhui"
   ]
  },
  {
   "cell_type": "code",
   "execution_count": null,
   "id": "f9f6f4b5-3f64-486a-b3a6-30dc1462a397",
   "metadata": {},
   "outputs": [],
   "source": []
  }
 ],
 "metadata": {
  "kernelspec": {
   "display_name": "Python 3 (ipykernel)",
   "language": "python",
   "name": "python3"
  },
  "language_info": {
   "codemirror_mode": {
    "name": "ipython",
    "version": 3
   },
   "file_extension": ".py",
   "mimetype": "text/x-python",
   "name": "python",
   "nbconvert_exporter": "python",
   "pygments_lexer": "ipython3",
   "version": "3.12.7"
  }
 },
 "nbformat": 4,
 "nbformat_minor": 5
}
